{
    "nbformat_minor": 1, 
    "cells": [
        {
            "source": "# Capstone Project (Week 1)", 
            "cell_type": "markdown", 
            "metadata": {
                "collapsed": true
            }
        }, 
        {
            "source": "##### By Rhys Davies (July 2019)\n-------------------------------------------\n-------------------------------------------", 
            "cell_type": "markdown", 
            "metadata": {}
        }, 
        {
            "source": "## **Idea**", 
            "cell_type": "markdown", 
            "metadata": {}
        }, 
        {
            "source": "###### This is a presentation intended for the Vegan Society.", 
            "cell_type": "markdown", 
            "metadata": {}
        }, 
        {
            "source": "![alt text](https://www.vegansociety.com/sites/default/files/uploads/Sharing/vegan_society_og_image.jpg \"The Vegan Society logo\")", 
            "cell_type": "markdown", 
            "metadata": {}
        }, 
        {
            "source": "[Link to The Vegan Society](https://www.vegansociety.com/)", 
            "cell_type": "markdown", 
            "metadata": {}
        }, 
        {
            "source": "###### (Since the presentation is intended for The Vegan Society we assume permission to use their logo)", 
            "cell_type": "markdown", 
            "metadata": {}
        }, 
        {
            "source": "##### This is intended to help The Vegan Society understand the relationship between veganism and wealth. This information can help the Society in their outreach planning to cohorts of the population which are less likely to be aware of their values and what they can offer. Further this information can be distributed by The Vegan Society for other purposes including to support commerce (e.g. restaurants and estate agents).", 
            "cell_type": "markdown", 
            "metadata": {}
        }, 
        {
            "source": "##### Dr Marco Springmann of the Oxford Martin Programme on the Future of Food led the following study:", 
            "cell_type": "markdown", 
            "metadata": {}
        }, 
        {
            "source": "[Oxford Martin report](https://www.oxfordmartin.ox.ac.uk/news/201603-plant-based-diets/)", 
            "cell_type": "markdown", 
            "metadata": {}
        }, 
        {
            "source": "##### This report makes powerful arguments, one particularly powerful claim highlighted by The Vegan Society is:\n##### \u201cIf the world went vegan, it could save 8 million human lives by 2050, reduce greenhouse gas emissions by two thirds and lead to healthcare-related savings and avoided climate damages of $1.5 trillion.\u201d", 
            "cell_type": "markdown", 
            "metadata": {}
        }, 
        {
            "source": "## **Description and Background**", 
            "cell_type": "markdown", 
            "metadata": {}
        }, 
        {
            "source": "##### The trend of increasing veganism supported by qualitative evidence of more vegan based foods both in supermarkets and also restaurants. \n\n##### We wish to explore if there is a relationship between veganism and wealth. To begin this enquiry we will consider property price as a proxy for wealth. Although this assumption is qualitative, it remains reasonable, at least for the purposes of this exploratory project. The basis for this assumption is that people tend to purchase more expensive properties as their wealth increases. The rate of this change is not constant and indeed complex, but for our purposes it is enough to acknowledge a positive correlation.\n\n##### We will consider London for a number of reasons. This is a large city with many neighbourhoods for which accurate house prices and also availability of vegan restaurants are available. It represents a homogenous testing area where we can test our hypothesis if house prices and veganism are somehow related. \n\n##### The data available for London is available, internally consistent and of sufficient quantity to enable a meaningful analysis to be undertaken and offers the opportunity for a reliable conclusion.\n\n##### London is widely considered to be amongst the leading cities in the world and consistently scores in the top 10 cities offering the best alternatives for vegans. \n\n##### The London property market is one of the most studied and invested in the world. This offers an opportunity to identify any possible early trends as well as to offer useful information to people who may find the abundance and proximity of vegan restaurants a factor in their home buying decisions. \n\n##### The relative cost of living a vegan lifestyle is complex. The costs of the raw materials are generally cheaper, although anecdotal evidence suggests that vegan products and vegan restaurants can and do charge a premium. However this is a crude generalization. There are multi-factors from fashion to the available economies of scale at play and this subject is itself a rabbit-hole of possibility and intrigue. \n\n##### I hope that this analysis will furnish the readers, at The Vegan Society and beyond, with a new data driven perspective and a better understanding. More than this, I hope this can contribute towards a better understanding and the basis for further investigation and good data science.", 
            "cell_type": "markdown", 
            "metadata": {}
        }, 
        {
            "source": "## Data and Solving our Assignment", 
            "cell_type": "markdown", 
            "metadata": {}
        }, 
        {
            "source": "##### House price data can be obtained from the following location: ", 
            "cell_type": "markdown", 
            "metadata": {}
        }, 
        {
            "source": "[UK Government data](https://www.gov.uk/government/statistical-data-sets/price-paid-data-downloads)", 
            "cell_type": "markdown", 
            "metadata": {}
        }, 
        {
            "source": "##### This contains HM Land Registry data under the Crown copyright and database right 2019. This data is also licensed under the Open Government Licence v3.0.\n\n##### Since house prices are not liquid, they are measured only occasionally when a transaction is made, then we do need to choose our method of measuring house price. General indices were considered, but for this analysis we consider the last paid price which represent the actual price paid for a unit within a particular postcode. This does mean however that the time of the transaction is not snapped at the same time and some transactions go back over the previous year. It also means that we are considering different unit sizes. Given our goal is to estimate the average in a region in order to rank by region, these effects will average themselves out. ", 
            "cell_type": "markdown", 
            "metadata": {}
        }, 
        {
            "source": "##### Information pertaining to vegan restaurants will be obtained from Foursquare and their Products database. This will follow the requirements set out in the Developer section:", 
            "cell_type": "markdown", 
            "metadata": {}
        }, 
        {
            "source": "[Foursquare Developer site](https://developer.foursquare.com/)", 
            "cell_type": "markdown", 
            "metadata": {}
        }, 
        {
            "source": "##### This data is of high quality, and particularly so for London for which there is a deep data set. We know from experience that Foursquare data is sound and under constant scrutiny by the vast network of developers, users and contributors. It is this community to which we are happily rely for the quality of our data.\n\n##### The two data sets will be imported into a Python notebook and incorporated into a consistent dataframe where the data will be joined using postcode. This will then provide the ability to consider sold prices by postcode and also to consider the vegan restaurants per postcode. Given that many residential areas do not have high-streets or an abundance of commercial activity, we can ignore the postcodes which contain little or no commercial activity. Our goal is to consider the areas for which we do have an abundance of vegan restaurants and to view the house prices of these areas to the average.\n\n##### We look forward to begin our analysis and remain attentive and open to adjust our analysis as we get further into the details. Like all data science projects, we must be vigilant to identify shortfalls and open to recognise opportunity as we explore the data and its results.", 
            "cell_type": "markdown", 
            "metadata": {}
        }, 
        {
            "source": "### ---", 
            "cell_type": "markdown", 
            "metadata": {}
        }, 
        {
            "execution_count": null, 
            "cell_type": "code", 
            "metadata": {}, 
            "outputs": [], 
            "source": ""
        }
    ], 
    "metadata": {
        "kernelspec": {
            "display_name": "Python 3.6", 
            "name": "python3", 
            "language": "python"
        }, 
        "language_info": {
            "mimetype": "text/x-python", 
            "nbconvert_exporter": "python", 
            "version": "3.6.8", 
            "name": "python", 
            "file_extension": ".py", 
            "pygments_lexer": "ipython3", 
            "codemirror_mode": {
                "version": 3, 
                "name": "ipython"
            }
        }
    }, 
    "nbformat": 4
}